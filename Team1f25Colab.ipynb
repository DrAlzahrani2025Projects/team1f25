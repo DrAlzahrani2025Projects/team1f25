{
 "cells": [
  {
   "metadata": {
    "ExecuteTime": {
     "end_time": "2025-10-11T05:04:13.138040Z",
     "start_time": "2025-10-11T05:04:11.821679Z"
    }
   },
   "cell_type": "code",
   "source": "pip install pydantic",
   "id": "2be3a4758413be5",
   "outputs": [
    {
     "name": "stdout",
     "output_type": "stream",
     "text": [
      "Requirement already satisfied: pydantic in c:\\users\\yazhi\\pycharmprojects\\team1f25\\.venv\\lib\\site-packages (2.12.0)\n",
      "Requirement already satisfied: annotated-types>=0.6.0 in c:\\users\\yazhi\\pycharmprojects\\team1f25\\.venv\\lib\\site-packages (from pydantic) (0.7.0)\n",
      "Requirement already satisfied: pydantic-core==2.41.1 in c:\\users\\yazhi\\pycharmprojects\\team1f25\\.venv\\lib\\site-packages (from pydantic) (2.41.1)\n",
      "Requirement already satisfied: typing-extensions>=4.14.1 in c:\\users\\yazhi\\pycharmprojects\\team1f25\\.venv\\lib\\site-packages (from pydantic) (4.15.0)\n",
      "Requirement already satisfied: typing-inspection>=0.4.2 in c:\\users\\yazhi\\pycharmprojects\\team1f25\\.venv\\lib\\site-packages (from pydantic) (0.4.2)\n",
      "Note: you may need to restart the kernel to use updated packages.\n"
     ]
    }
   ],
   "execution_count": 7
  },
  {
   "metadata": {
    "ExecuteTime": {
     "end_time": "2025-10-11T05:04:27.282187Z",
     "start_time": "2025-10-11T05:04:16.213945Z"
    }
   },
   "cell_type": "code",
   "source": "query = input(\"Enter your search query: \")",
   "id": "af790ab87ec5e914",
   "outputs": [],
   "execution_count": 8
  },
  {
   "metadata": {
    "ExecuteTime": {
     "end_time": "2025-10-11T05:04:33.031912Z",
     "start_time": "2025-10-11T05:04:28.964972Z"
    }
   },
   "cell_type": "code",
   "source": "limit = int(input(\"Enter total records to fetch: \"))",
   "id": "76193aabff3ec6c3",
   "outputs": [],
   "execution_count": 9
  },
  {
   "metadata": {
    "ExecuteTime": {
     "end_time": "2025-10-11T05:04:37.061393Z",
     "start_time": "2025-10-11T05:04:35.045235Z"
    }
   },
   "cell_type": "code",
   "source": [
    "from app.ingest.primo_explore_client import explore_search\n",
    "from app.ingest.primo_schema import brief_from_doc, PrimoFull\n",
    "from app.ingest.primo_store import append_records\n",
    "\n",
    "page_size = 10\n",
    "results = []\n",
    "fetched, offset = 0, 0\n",
    "\n",
    "while fetched < limit:\n",
    "    batch = min(page_size, limit - fetched)\n",
    "    resp = explore_search(query=query, limit=batch, offset=offset)\n",
    "    docs = resp.get(\"docs\", [])\n",
    "    if not docs:\n",
    "        break\n",
    "    for d in docs:\n",
    "        results.append(brief_from_doc(d))\n",
    "    fetched += len(docs)\n",
    "    offset += len(docs)\n",
    "\n",
    "# Show results before appending\n",
    "for r in results:\n",
    "    print(f\"Title: {r.title}\")\n",
    "    print(f\"Creators: {', '.join(r.creators) if r.creators else '—'}\")\n",
    "    print(f\"Date: {r.creation_date or '—'}\")\n",
    "    print(f\"Type: {r.resource_type or '—'}\")\n",
    "    print(\"-\" * 40)\n",
    "\n",
    "payload = [PrimoFull(brief=b, pnx={}, links={}, raw={}) for b in results]\n",
    "wrote = append_records(payload, dedupe=True)\n",
    "print(f\"Exported {wrote} new records to /data/primo/records.jsonl.\")"
   ],
   "id": "d33df7904ba177b9",
   "outputs": [
    {
     "name": "stdout",
     "output_type": "stream",
     "text": [
      "Title: The age of information : an interdisciplinary survey of cybernetics \n",
      "Creators: Helvey, T. C., author$$QHelvey, T. C.\n",
      "Date: 1971\n",
      "Type: book\n",
      "----------------------------------------\n",
      "Title: Reshaping national intelligence for an age of information \n",
      "Creators: Treverton, Gregory F., author$$QTreverton, Gregory F.\n",
      "Date: 2003\n",
      "Type: book\n",
      "----------------------------------------\n",
      "Title: The humanities in the age of information and post-truth \n",
      "Creators: —\n",
      "Date: 2019\n",
      "Type: book\n",
      "----------------------------------------\n",
      "Title: Trucking in the age of information \n",
      "Creators: —\n",
      "Date: 2005\n",
      "Type: book\n",
      "----------------------------------------\n",
      "Title: Consumption in an age of information \n",
      "Creators: —\n",
      "Date: 2005\n",
      "Type: book\n",
      "----------------------------------------\n",
      "Title: Age of Information Aware Communication Systems : Modeling and Performance Analysis.\n",
      "Creators: Kosta, Antzela$$QKosta, Antzela.\n",
      "Date: 2020\n",
      "Type: book\n",
      "----------------------------------------\n",
      "Title: Age of Information : Concept, Metric and Tool for Network Control \n",
      "Creators: —\n",
      "Date: 2023\n",
      "Type: book\n",
      "----------------------------------------\n",
      "Title: Literacy in a digital world : teaching and learning in the age of information \n",
      "Creators: Tyner, Kathleen R$$QTyner, Kathleen R.\n",
      "Date: 1998\n",
      "Type: book\n",
      "----------------------------------------\n",
      "Title: Literacy for Sustainable Development in the Age of Information.\n",
      "Creators: Rassool, Naz$$QRassool, Naz.\n",
      "Date: 1999\n",
      "Type: book\n",
      "----------------------------------------\n",
      "Title: Silence, screen, and spectacle : rethinking social memory in the age of information and new media \n",
      "Creators: —\n",
      "Date: 2014\n",
      "Type: book\n",
      "----------------------------------------\n",
      "Exported 10 new records to /data/primo/records.jsonl.\n"
     ]
    }
   ],
   "execution_count": 10
  }
 ],
 "metadata": {
  "kernelspec": {
   "display_name": "Python 3",
   "language": "python",
   "name": "python3"
  },
  "language_info": {
   "codemirror_mode": {
    "name": "ipython",
    "version": 2
   },
   "file_extension": ".py",
   "mimetype": "text/x-python",
   "name": "python",
   "nbconvert_exporter": "python",
   "pygments_lexer": "ipython2",
   "version": "2.7.6"
  }
 },
 "nbformat": 4,
 "nbformat_minor": 5
}
