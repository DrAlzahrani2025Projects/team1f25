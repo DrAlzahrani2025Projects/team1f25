{
 "cells": [
  {
   "metadata": {},
   "cell_type": "code",
   "source": "pip install pydantic",
   "id": "2be3a4758413be5",
   "outputs": [],
   "execution_count": null
  },
  {
   "metadata": {},
   "cell_type": "code",
   "source": "query = input(\"Enter your search query: \")",
   "id": "af790ab87ec5e914",
   "outputs": [],
   "execution_count": null
  },
  {
   "metadata": {},
   "cell_type": "code",
   "source": "limit = int(input(\"Enter total records to fetch: \"))",
   "id": "76193aabff3ec6c3",
   "outputs": [],
   "execution_count": null
  },
  {
   "metadata": {},
   "cell_type": "code",
   "source": [
    "from app.ingest.primo_explore_client import explore_search\n",
    "from app.ingest.primo_schema import brief_from_doc, PrimoFull\n",
    "from app.ingest.primo_store import append_records\n",
    "\n",
    "page_size = 10\n",
    "results = []\n",
    "fetched, offset = 0, 0\n",
    "\n",
    "while fetched < limit:\n",
    "    batch = min(page_size, limit - fetched)\n",
    "    resp = explore_search(query=query, limit=batch, offset=offset)\n",
    "    docs = resp.get(\"docs\", [])\n",
    "    if not docs:\n",
    "        break\n",
    "    for d in docs:\n",
    "        results.append(brief_from_doc(d))\n",
    "    fetched += len(docs)\n",
    "    offset += len(docs)\n",
    "\n",
    "# Show results before appending\n",
    "for r in results:\n",
    "    print(f\"Title: {r.title}\")\n",
    "    print(f\"Creators: {', '.join(r.creators) if r.creators else '—'}\")\n",
    "    print(f\"Date: {r.creation_date or '—'}\")\n",
    "    print(f\"Type: {r.resource_type or '—'}\")\n",
    "    print(\"-\" * 40)\n",
    "\n",
    "payload = [PrimoFull(brief=b, pnx={}, links={}, raw={}) for b in results]\n",
    "wrote = append_records(payload, dedupe=True)\n",
    "print(f\"Exported {wrote} new records to /data/primo/records.jsonl.\")"
   ],
   "id": "d33df7904ba177b9",
   "outputs": [],
   "execution_count": null
  }
 ],
 "metadata": {
  "kernelspec": {
   "display_name": "Python 3",
   "language": "python",
   "name": "python3"
  },
  "language_info": {
   "codemirror_mode": {
    "name": "ipython",
    "version": 2
   },
   "file_extension": ".py",
   "mimetype": "text/x-python",
   "name": "python",
   "nbconvert_exporter": "python",
   "pygments_lexer": "ipython2",
   "version": "2.7.6"
  }
 },
 "nbformat": 4,
 "nbformat_minor": 5
}
